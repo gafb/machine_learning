{
 "cells": [
  {
   "cell_type": "code",
   "execution_count": null,
   "metadata": {},
   "outputs": [],
   "source": []
  },
  {
   "cell_type": "markdown",
   "metadata": {},
   "source": [
    "Implemente LVQ1, LVQ2.1 e LVQ3.\n",
    "\n",
    "a. Adotar o classificador k-NN, k = {1,3} com distância Euclidiana;\n",
    "\n",
    "b. Varie o número de protótipos;\n",
    "\n",
    "c. Avalie usando dois bancos de dados do repositório Promise;\n",
    "\n",
    "d. Compare com os resultados sem o uso de seleção de protótipos."
   ]
  },
  {
   "cell_type": "code",
   "execution_count": 1,
   "metadata": {},
   "outputs": [],
   "source": [
    "import pandas as pd\n",
    "import numpy as np\n",
    "import random\n",
    "\n",
    "import math\n",
    "import matplotlib.pyplot as plt \n",
    "\n",
    "from sklearn.neighbors import  KNeighborsClassifier\n",
    "\n",
    "from sklearn.model_selection import GridSearchCV\n",
    "\n",
    "\n",
    "from sklearn import preprocessing\n",
    "from sklearn.model_selection import train_test_split\n",
    "\n",
    "from time import time\n",
    "import io\n",
    "from scipy.io import arff\n",
    "import urllib.request\n",
    "\n",
    "from IPython.display import display\n",
    "\n",
    "from sklearn.metrics import accuracy_score\n",
    "from sklearn.metrics import f1_score"
   ]
  },
  {
   "cell_type": "code",
   "execution_count": 2,
   "metadata": {},
   "outputs": [],
   "source": [
    "def onlineArff(url):\n",
    "    \n",
    "    \n",
    "    ftpstream = urllib.request.urlopen(url)\n",
    "    data, meta = arff.loadarff(io.StringIO(ftpstream.read().decode('utf-8')))\n",
    "\n",
    "    df = pd.DataFrame(data)\n",
    "\n",
    "    df.iloc[:,-1] = df.iloc[:,-1].apply(lambda x: str(x)[1:]) #Retirando caractere indesejado\n",
    "    X  = df.iloc[:, :-1] # retirando a última coluna, pois é o target\n",
    "    \n",
    "    y = df.iloc[:,-1] # target\n",
    "\n",
    "    return X,y"
   ]
  },
  {
   "cell_type": "code",
   "execution_count": 3,
   "metadata": {},
   "outputs": [],
   "source": [
    "def readArff(file):\n",
    "    data = arff.loadarff(file)\n",
    "    df = pd.DataFrame(data[0])\n",
    "    \n",
    "    df.iloc[:,-1] = df.iloc[:,-1].apply(lambda x: str(x)[1:]) #Retirando caractere indesejado\n",
    "    \n",
    "    X  = df.iloc[:, :-1] # retirando a última coluna, pois é o target\n",
    "    \n",
    "    y = df.iloc[:,-1] # target\n",
    "    y = y.map({\"'true'\": True, \"'false'\": False})\n",
    "    #display(y)\n",
    "    return X,y"
   ]
  },
  {
   "cell_type": "code",
   "execution_count": 4,
   "metadata": {},
   "outputs": [],
   "source": [
    "def getBarplot(data, title, y_label, color, proportions  ):\n",
    "    \n",
    "    \n",
    "    i_aux = 1\n",
    "    index = []\n",
    "    \n",
    "    for row in data:\n",
    "        aux = []\n",
    "        for value in row:\n",
    "            aux.append(i_aux)\n",
    "            i_aux = i_aux + 1\n",
    "        \n",
    "        index.append(aux)\n",
    "    \n",
    "    print(index)\n",
    "    \n",
    "    fig,ax = plt.subplots()\n",
    "    width = 0.3\n",
    "    \n",
    "    plt.title(title)\n",
    "    plt.ylabel(y_label)\n",
    "    \n",
    "    \n",
    "    aux = np.arange(index[-1][-1] +1)\n",
    "    \n",
    "    #labels = ['KNN', 'LVQ1', 'LVQ2', 'LVQ3']\n",
    "    rect = [None] * len(data)\n",
    "    text = [\"\"]\n",
    "    for i in range(len(data)):\n",
    "        rect[i] =  plt.bar(index[i] , data[i], width=width, color=color)        \n",
    "        \n",
    "        text.append('KNN')\n",
    "        text.append('LVQ1')\n",
    "        text.append('LVQ2')\n",
    "        text.append('LVQ3')\n",
    "        \n",
    "    plt.xticks(aux , text)\n",
    "    \n",
    "    \n",
    "        \n",
    "    plt.savefig(\"images/\"+title+\".png\")\n",
    "    plt.show()"
   ]
  },
  {
   "cell_type": "code",
   "execution_count": 5,
   "metadata": {},
   "outputs": [],
   "source": [
    "def getAccuracy(X_train, y_train, X_test, y_test, estimator, parameters,scorer, name ):\n",
    "\n",
    "    start = time()\n",
    "    grid_obj = GridSearchCV(estimator, parameters,cv=5,scoring=scorer, return_train_score =True)\n",
    "    grid_fit = grid_obj.fit(X_train, y_train.values.ravel())\n",
    "      \n",
    "    best_clf = grid_fit.best_estimator_\n",
    "        \n",
    "    best_predictions = pd.DataFrame(best_clf.predict(X_test))\n",
    "    \n",
    "    acc = accuracy_score(y_test,best_predictions)\n",
    "    #print (\"f1Score: \",f1_score(y_test,best_predictions))\n",
    "    end = time()\n",
    "    print(name, \" accuracy: \", round(acc,2))\n",
    "    print(name, \" test time: \", round(end -start,2))\n",
    "    return acc, (end- start)"
   ]
  },
  {
   "cell_type": "code",
   "execution_count": 6,
   "metadata": {},
   "outputs": [],
   "source": [
    "class LVQ:\n",
    "    def __init__(self, X, y, lvq_type=\"1\", proportion = 0.01, learning_rate = 0.1, iterations=10, random_state = 200):\n",
    "        \n",
    "        start = time()\n",
    "        self.X = X\n",
    "        self.y = y \n",
    "        self.learning_rate = learning_rate\n",
    "        self.iterations = iterations\n",
    "        self.proportion = proportion\n",
    "        self.random_state = random_state\n",
    "        self.getPrototypes()\n",
    "        self.getClasses()\n",
    "        self.lvq_type = lvq_type\n",
    "        self.k = 1\n",
    "        \n",
    "        \n",
    "        if (self.lvq_type == \"1\"):\n",
    "            \n",
    "            self.prototypes = self.lvq1()\n",
    "            \n",
    "            \n",
    "            \n",
    "        elif (self.lvq_type == \"2_1\"):\n",
    "            \n",
    "            self.prototypes = self.lvq2()\n",
    "            \n",
    "            \n",
    "            \n",
    "        elif (self.lvq_type == \"3\"):\n",
    "            \n",
    "            self.prototypes = self.lvq3()\n",
    "            \n",
    "            \n",
    "        end = time()\n",
    "        self.time_prot = end - start\n",
    "\n",
    "        print(\"Tempo de geração de protótipos: \",round(self.time_prot,2))\n",
    "        \n",
    "    def getMinDistances(self,row_df):\n",
    "        \"\"\"\n",
    "        1. Calcula a distância da linha recebida com todas linhas dos protótipos\n",
    "        2. Para cada k:\n",
    "            2.1 São guardadas as k menores distâncias \n",
    "            2.2 São guardados também os indexes das menores distâncias do grupo de protótipos\n",
    "        São retornadas as k menores (melhores) distâncias e os indexes do protótipos\n",
    "        \"\"\"\n",
    "        \n",
    "        distances = np.array([])\n",
    "        best_match = np.array([])\n",
    "        index = np.array([])\n",
    "        \n",
    "        for index_pt, row_pt in self.prototypes_X.iterrows():\n",
    "\n",
    "            distances = np.append(distances, self.euclideanDistance(row_df, row_pt))\n",
    "\n",
    "        for i in range(self.k):\n",
    "            best_match = np.append( best_match , np.partition(distances, i)[i])  # o elemento '0' é o com menor distancia\n",
    "    \n",
    "            index = np.append(index,np.where(distances == best_match[i])[0]) #retornando o primeiro elemento só\n",
    "\n",
    "        index = index.astype(int)\n",
    "        \n",
    "        \n",
    "        return (best_match , index)\n",
    "    \n",
    "    def euclideanDistance(self, vector1, vector2):\n",
    "        return np.sqrt(np.sum(np.power(vector1-vector2, 2)))\n",
    "\n",
    " \n",
    "    \n",
    "    def getPrototypes(self):\n",
    "        self.prototypes_X = self.X.sample(frac=self.proportion, replace=True,random_state = self.random_state)\n",
    "        \n",
    "    \n",
    "    def getClasses(self):\n",
    "        classes = np.array([])\n",
    "        aux_index = np.array([])\n",
    "    \n",
    "        for index, row in self.prototypes_X.iterrows():\n",
    "            classes = np.append(classes, self.y[index])\n",
    "            aux_index = np.append(aux_index, index)\n",
    "    \n",
    "        aux_index = aux_index.astype(int)\n",
    "        self.prototype_classes = pd.DataFrame(data =  classes, index = aux_index)\n",
    "    \n",
    "    \n",
    "    def lvq1(self):\n",
    "        \"\"\"\n",
    "    LVQ1\n",
    "    1. Escolher protótipos\n",
    "    2. Pegar index dos protótipos da base de treinamento\n",
    "    3. Saber a classe do protótipo pelo index obtido\n",
    "    4. Para todos os elementos da base de treinamento\n",
    "        4.1 Obter a distância e o index do protótipo mais próximo\n",
    "        4.2 Caso sejam da mesma classe aproximá-los, se não afastá-los\n",
    "    \n",
    "    \"\"\"\n",
    "        prototypes = self.prototypes_X\n",
    "        self.k = 1\n",
    "        #display(self.prototypes_X)\n",
    "        for i in range(self.iterations):\n",
    "            rate = self.learning_rate * math.exp(-i/float(self.iterations)) # decaimento\n",
    "        \n",
    "            for index_X, row_X in self.X.iterrows():\n",
    "                d, iBestMatch = self.getMinDistances(row_X)\n",
    "                \n",
    "            ###matches, iBestMatch = best_match[::2], best_match[1::2] # matches contém as menores distâncias e os indexes contém o index no X_t em que se tem a menor distância\n",
    "                for i in range(self.k):\n",
    "                    \n",
    "                    if self.y.iloc[index_X] == self.y.iloc[iBestMatch[i]]:\n",
    "                        prototypes.iloc[iBestMatch[i]] = prototypes.iloc[iBestMatch[i]] + (rate * (self.X.iloc[index_X] - prototypes.iloc[iBestMatch[i]]))\n",
    "                    else:\n",
    "                        prototypes.iloc[iBestMatch[i]] = prototypes.iloc[iBestMatch[i]] - (rate * (self.X.iloc[index_X] - prototypes.iloc[iBestMatch[i]]))\n",
    "            \n",
    "        return prototypes\n",
    "    \n",
    "    \n",
    "    \n",
    "    \n",
    "    def lvq2(self):\n",
    "        \"\"\"\n",
    "    LVQ2\n",
    "    X é a base de treino, x é um elemento da base de treino\n",
    "    1. Escolher protótipos iniciais usando LVQ1\n",
    "    2. Pegar index dos protótipos da base de treinamento\n",
    "    3. Saber a classe do protótipo pelo index obtido\n",
    "    4. Para todos os elementos da base de treinamento\n",
    "        4.1 Obter a distância e o index dos 2 protótipos mais próximos (ei, ej)\n",
    "        4.2 Se cair na janela(x, ei, ej)\n",
    "                Se Classe(ei) != Classe(ej)\n",
    "                    Se Classe (ei) == Classe(x)\n",
    "                        Aproxima ei e afasta ej\n",
    "                    Se não\n",
    "                        Aproxima ej e afasta ei\n",
    "        \n",
    "    \"\"\"\n",
    "        prototypes = self.lvq1()\n",
    "        self.k = 2\n",
    "        self.window = 0.3\n",
    "        \n",
    "        for i in range(self.iterations):\n",
    "            rate = self.learning_rate * math.exp(-i/float(self.iterations)) # decaimento\n",
    "            for index_X, row_X in self.X.iterrows():\n",
    "                d, iBestMatch = self.getMinDistances(row_X)\n",
    "                if (d[0] !=0 and d[1] !=0): #Checar se eh 0 ou sera feito uma divisao por 0 inapropriada\n",
    "                    aux_d = min(d[0]/d[1], d[1]/d[0])\n",
    "                    s = (1 - self.window)/ (1+ self.window)\n",
    "                    if (aux_d > s ): #Janela\n",
    "                        \n",
    "                        if self.y.iloc[iBestMatch[0]] != self.y.iloc[iBestMatch[1]]:\n",
    "                            if self.y.iloc[index_X] == self.y.iloc[iBestMatch[0]]:\n",
    "                                prototypes.iloc[iBestMatch[0]] = prototypes.iloc[iBestMatch[0]] + (rate * (self.X.iloc[index_X] - prototypes.iloc[iBestMatch[0]]))\n",
    "                                prototypes.iloc[iBestMatch[1]] = prototypes.iloc[iBestMatch[1]] - (rate * (self.X.iloc[index_X] - prototypes.iloc[iBestMatch[1]]))\n",
    "                                       \n",
    "                            else:\n",
    "                                prototypes.iloc[iBestMatch[1]] = prototypes.iloc[iBestMatch[1]] - (rate * (self.X.iloc[index_X] - prototypes.iloc[iBestMatch[1]]))\n",
    "                                prototypes.iloc[iBestMatch[1]] = prototypes.iloc[iBestMatch[1]] + (rate * (self.X.iloc[index_X] - prototypes.iloc[iBestMatch[1]]))               \n",
    "                  \n",
    "        return prototypes    \n",
    "        \n",
    "        \n",
    "    def lvq3(self):\n",
    "        \"\"\"\n",
    "    LVQ3\n",
    "    X é a base de treino, x é um elemento da base de treino\n",
    "    \n",
    "    1. Escolher protótipos iniciais usando LVQ1\n",
    "    2. Pegar index dos protótipos da base de treinamento\n",
    "    3. Saber a classe do protótipo pelo index obtido\n",
    "    4. Para todos os elementos da base de treinamento\n",
    "        4.1 Obter a distância e o index dos 2 protótipos mais próximos (ei, ej)\n",
    "        4.2 Se cair na janela(x, ei, ej)\n",
    "                Se Classe(ei) != Classe(ej)\n",
    "                    Se Classe (ei) == Classe(x)\n",
    "                        Aproxima ei e afasta ej\n",
    "                    Se não\n",
    "                        Aproxima ej e afasta ei\n",
    "                Se Classe(ei) == Classe(ej) == Classe(x)\n",
    "                estabiliza ei e ej com epsilon\n",
    "                        \n",
    "    \"\"\"\n",
    "    \n",
    "        prototypes = self.lvq1()\n",
    "        self.k = 2\n",
    "        self.window = 0.3\n",
    "        self.epsilon = 0.05\n",
    "        \n",
    "        \n",
    "        for i in range(self.iterations):\n",
    "            rate = self.learning_rate * math.exp(-i/float(self.iterations)) # decaimento\n",
    "            for index_X, row_X in self.X.iterrows():\n",
    "                d, iBestMatch = self.getMinDistances(row_X)\n",
    "                if (d[0] !=0 and d[1] !=0): #Checar se eh 0 ou sera feito uma divisao por 0 inapropriada\n",
    "                    aux_d = min(d[0]/d[1], d[1]/d[0])\n",
    "                    s = (1 - self.window)/ (1+ self.window)\n",
    "                    if (aux_d > s ): #Janela\n",
    "                        \n",
    "                        if self.y.iloc[iBestMatch[0]] != self.y.iloc[iBestMatch[1]]:\n",
    "                            if self.y.iloc[index_X] == self.y.iloc[iBestMatch[0]]:\n",
    "                                prototypes.iloc[iBestMatch[0]] = prototypes.iloc[iBestMatch[0]] + (rate * (self.X.iloc[index_X] - prototypes.iloc[iBestMatch[0]]))\n",
    "                                prototypes.iloc[iBestMatch[1]] = prototypes.iloc[iBestMatch[1]] - (rate * (self.X.iloc[index_X] - prototypes.iloc[iBestMatch[1]]))\n",
    "                                       \n",
    "                            else:\n",
    "                                prototypes.iloc[iBestMatch[0]] = prototypes.iloc[iBestMatch[0]] - (rate * (self.X.iloc[index_X] - prototypes.iloc[iBestMatch[0]]))\n",
    "                                prototypes.iloc[iBestMatch[1]] = prototypes.iloc[iBestMatch[1]] + (rate * (self.X.iloc[index_X] - prototypes.iloc[iBestMatch[1]]))               \n",
    "                        \n",
    "                        elif self.y.iloc[iBestMatch[0]] == self.y.iloc[iBestMatch[1]] == self.y.iloc[index_X]:\n",
    "                            \n",
    "                            prototypes.iloc[iBestMatch[0]] = prototypes.iloc[iBestMatch[0]] + (self.epsilon* (rate * (self.X.iloc[index_X] - prototypes.iloc[iBestMatch[0]])))\n",
    "                            prototypes.iloc[iBestMatch[1]] = prototypes.iloc[iBestMatch[1]] + (self.epsilon* (rate * (self.X.iloc[index_X] - prototypes.iloc[iBestMatch[1]])))\n",
    "        \n",
    "        return prototypes                    \n",
    "        "
   ]
  },
  {
   "cell_type": "code",
   "execution_count": 7,
   "metadata": {},
   "outputs": [
    {
     "data": {
      "text/plain": [
       "(498, 21)"
      ]
     },
     "metadata": {},
     "output_type": "display_data"
    },
    {
     "name": "stdout",
     "output_type": "stream",
     "text": [
      "Train Data  accuracy:  0.87\n",
      "Train Data  test time:  0.32\n",
      "Número de protótipos:  10\n",
      "Tempo de geração de protótipos:  13.38\n",
      "Tempo de geração de protótipos:  21.57\n",
      "Tempo de geração de protótipos:  25.73\n",
      "LVQ1  accuracy:  0.87\n",
      "LVQ1  test time:  0.04\n",
      "LVQ2  accuracy:  0.87\n",
      "LVQ2  test time:  0.05\n",
      "LVQ3  accuracy:  0.87\n",
      "LVQ3  test time:  0.04\n",
      "Número de protótipos:  25\n",
      "Tempo de geração de protótipos:  25.54\n",
      "Tempo de geração de protótipos:  47.84\n",
      "Tempo de geração de protótipos:  51.91\n",
      "LVQ1  accuracy:  0.87\n",
      "LVQ1  test time:  0.05\n",
      "LVQ2  accuracy:  0.87\n",
      "LVQ2  test time:  0.05\n",
      "LVQ3  accuracy:  0.87\n",
      "LVQ3  test time:  0.05\n",
      "Número de protótipos:  50\n",
      "Tempo de geração de protótipos:  47.1\n",
      "Tempo de geração de protótipos:  94.43\n",
      "Tempo de geração de protótipos:  100.05\n",
      "LVQ1  accuracy:  0.8\n",
      "LVQ1  test time:  0.11\n",
      "LVQ2  accuracy:  0.8\n",
      "LVQ2  test time:  0.05\n"
     ]
    },
    {
     "name": "stderr",
     "output_type": "stream",
     "text": [
      "/home/pgdock/anaconda3/lib/python3.6/site-packages/sklearn/model_selection/_split.py:652: Warning: The least populated class in y has only 2 members, which is too few. The minimum number of members in any class cannot be less than n_splits=5.\n",
      "  % (min_groups, self.n_splits)), Warning)\n",
      "/home/pgdock/anaconda3/lib/python3.6/site-packages/sklearn/model_selection/_search.py:841: DeprecationWarning: The default of the `iid` parameter will change from True to False in version 0.22 and will be removed in 0.24. This will change numeric results when test-set sizes are unequal.\n",
      "  DeprecationWarning)\n",
      "/home/pgdock/anaconda3/lib/python3.6/site-packages/sklearn/model_selection/_split.py:652: Warning: The least populated class in y has only 2 members, which is too few. The minimum number of members in any class cannot be less than n_splits=5.\n",
      "  % (min_groups, self.n_splits)), Warning)\n",
      "/home/pgdock/anaconda3/lib/python3.6/site-packages/sklearn/model_selection/_search.py:841: DeprecationWarning: The default of the `iid` parameter will change from True to False in version 0.22 and will be removed in 0.24. This will change numeric results when test-set sizes are unequal.\n",
      "  DeprecationWarning)\n",
      "/home/pgdock/anaconda3/lib/python3.6/site-packages/sklearn/model_selection/_split.py:652: Warning: The least populated class in y has only 2 members, which is too few. The minimum number of members in any class cannot be less than n_splits=5.\n",
      "  % (min_groups, self.n_splits)), Warning)\n",
      "/home/pgdock/anaconda3/lib/python3.6/site-packages/sklearn/model_selection/_search.py:841: DeprecationWarning: The default of the `iid` parameter will change from True to False in version 0.22 and will be removed in 0.24. This will change numeric results when test-set sizes are unequal.\n",
      "  DeprecationWarning)\n"
     ]
    },
    {
     "name": "stdout",
     "output_type": "stream",
     "text": [
      "LVQ3  accuracy:  0.81\n",
      "LVQ3  test time:  0.06\n",
      "[[1, 2, 3, 4], [5, 6, 7, 8], [9, 10, 11, 12]]\n"
     ]
    },
    {
     "data": {
      "image/png": "[encoded data removed]",
      "text/plain": [
       "<Figure size 432x288 with 1 Axes>"
      ]
     },
     "metadata": {},
     "output_type": "display_data"
    },
    {
     "name": "stdout",
     "output_type": "stream",
     "text": [
      "[[1, 2, 3, 4], [5, 6, 7, 8], [9, 10, 11, 12]]\n"
     ]
    },
    {
     "data": {
      "image/png": "[encoded data removed]",
      "text/plain": [
       "<Figure size 432x288 with 1 Axes>"
      ]
     },
     "metadata": {},
     "output_type": "display_data"
    },
    {
     "name": "stdout",
     "output_type": "stream",
     "text": [
      "[[1, 2, 3, 4], [5, 6, 7, 8], [9, 10, 11, 12]]\n"
     ]
    },
    {
     "data": {
      "image/png": "[encoded data removed]",
      "text/plain": [
       "<Figure size 432x288 with 1 Axes>"
      ]
     },
     "metadata": {},
     "output_type": "display_data"
    },
    {
     "data": {
      "text/plain": [
       "(2109, 21)"
      ]
     },
     "metadata": {},
     "output_type": "display_data"
    },
    {
     "name": "stdout",
     "output_type": "stream",
     "text": [
      "Train Data  accuracy:  0.86\n",
      "Train Data  test time:  0.61\n",
      "Número de protótipos:  42\n",
      "Tempo de geração de protótipos:  180.11\n",
      "Tempo de geração de protótipos:  429.41\n",
      "Tempo de geração de protótipos:  353.21\n",
      "LVQ1  accuracy:  0.85\n",
      "LVQ1  test time:  0.06\n",
      "LVQ2  accuracy:  0.85\n",
      "LVQ2  test time:  0.06\n",
      "LVQ3  accuracy:  0.79\n",
      "LVQ3  test time:  0.06\n",
      "Número de protótipos:  105\n"
     ]
    },
    {
     "name": "stderr",
     "output_type": "stream",
     "text": [
      "/home/pgdock/anaconda3/lib/python3.6/site-packages/sklearn/model_selection/_search.py:841: DeprecationWarning: The default of the `iid` parameter will change from True to False in version 0.22 and will be removed in 0.24. This will change numeric results when test-set sizes are unequal.\n",
      "  DeprecationWarning)\n",
      "/home/pgdock/anaconda3/lib/python3.6/site-packages/sklearn/model_selection/_search.py:841: DeprecationWarning: The default of the `iid` parameter will change from True to False in version 0.22 and will be removed in 0.24. This will change numeric results when test-set sizes are unequal.\n",
      "  DeprecationWarning)\n",
      "/home/pgdock/anaconda3/lib/python3.6/site-packages/sklearn/model_selection/_search.py:841: DeprecationWarning: The default of the `iid` parameter will change from True to False in version 0.22 and will be removed in 0.24. This will change numeric results when test-set sizes are unequal.\n",
      "  DeprecationWarning)\n"
     ]
    },
    {
     "name": "stdout",
     "output_type": "stream",
     "text": [
      "Tempo de geração de protótipos:  413.18\n",
      "Tempo de geração de protótipos:  801.8\n",
      "Tempo de geração de protótipos:  824.91\n",
      "LVQ1  accuracy:  0.82\n",
      "LVQ1  test time:  0.07\n",
      "LVQ2  accuracy:  0.82\n",
      "LVQ2  test time:  0.07\n"
     ]
    },
    {
     "name": "stderr",
     "output_type": "stream",
     "text": [
      "/home/pgdock/anaconda3/lib/python3.6/site-packages/sklearn/model_selection/_search.py:841: DeprecationWarning: The default of the `iid` parameter will change from True to False in version 0.22 and will be removed in 0.24. This will change numeric results when test-set sizes are unequal.\n",
      "  DeprecationWarning)\n",
      "/home/pgdock/anaconda3/lib/python3.6/site-packages/sklearn/model_selection/_search.py:841: DeprecationWarning: The default of the `iid` parameter will change from True to False in version 0.22 and will be removed in 0.24. This will change numeric results when test-set sizes are unequal.\n",
      "  DeprecationWarning)\n",
      "/home/pgdock/anaconda3/lib/python3.6/site-packages/sklearn/model_selection/_search.py:841: DeprecationWarning: The default of the `iid` parameter will change from True to False in version 0.22 and will be removed in 0.24. This will change numeric results when test-set sizes are unequal.\n",
      "  DeprecationWarning)\n"
     ]
    },
    {
     "name": "stdout",
     "output_type": "stream",
     "text": [
      "LVQ3  accuracy:  0.84\n",
      "LVQ3  test time:  0.07\n",
      "Número de protótipos:  211\n",
      "Tempo de geração de protótipos:  845.79\n",
      "Tempo de geração de protótipos:  1663.21\n",
      "Tempo de geração de protótipos:  1726.69\n",
      "LVQ1  accuracy:  0.85\n",
      "LVQ1  test time:  0.09\n",
      "LVQ2  accuracy:  0.86\n",
      "LVQ2  test time:  0.1\n"
     ]
    },
    {
     "name": "stderr",
     "output_type": "stream",
     "text": [
      "/home/pgdock/anaconda3/lib/python3.6/site-packages/sklearn/model_selection/_search.py:841: DeprecationWarning: The default of the `iid` parameter will change from True to False in version 0.22 and will be removed in 0.24. This will change numeric results when test-set sizes are unequal.\n",
      "  DeprecationWarning)\n",
      "/home/pgdock/anaconda3/lib/python3.6/site-packages/sklearn/model_selection/_search.py:841: DeprecationWarning: The default of the `iid` parameter will change from True to False in version 0.22 and will be removed in 0.24. This will change numeric results when test-set sizes are unequal.\n",
      "  DeprecationWarning)\n",
      "/home/pgdock/anaconda3/lib/python3.6/site-packages/sklearn/model_selection/_search.py:841: DeprecationWarning: The default of the `iid` parameter will change from True to False in version 0.22 and will be removed in 0.24. This will change numeric results when test-set sizes are unequal.\n",
      "  DeprecationWarning)\n"
     ]
    },
    {
     "name": "stdout",
     "output_type": "stream",
     "text": [
      "LVQ3  accuracy:  0.86\n",
      "LVQ3  test time:  0.1\n",
      "[[1, 2, 3, 4], [5, 6, 7, 8], [9, 10, 11, 12]]\n"
     ]
    },
    {
     "data": {
      "image/png": "[encoded data removed]",
      "text/plain": [
       "<Figure size 432x288 with 1 Axes>"
      ]
     },
     "metadata": {},
     "output_type": "display_data"
    },
    {
     "name": "stdout",
     "output_type": "stream",
     "text": [
      "[[1, 2, 3, 4], [5, 6, 7, 8], [9, 10, 11, 12]]\n"
     ]
    },
    {
     "data": {
      "image/png": "[encoded data removed]",
      "text/plain": [
       "<Figure size 432x288 with 1 Axes>"
      ]
     },
     "metadata": {},
     "output_type": "display_data"
    },
    {
     "name": "stdout",
     "output_type": "stream",
     "text": [
      "[[1, 2, 3, 4], [5, 6, 7, 8], [9, 10, 11, 12]]\n"
     ]
    },
    {
     "data": {
      "image/png": "[encoded data removed]",
      "text/plain": [
       "<Figure size 432x288 with 1 Axes>"
      ]
     },
     "metadata": {},
     "output_type": "display_data"
    }
   ],
   "source": [
    "#urls = [\"http://promise.site.uottawa.ca/SERepository/datasets/cm1.arff\",\"http://promise.site.uottawa.ca/SERepository/datasets/kc1.arff\"]\n",
    "files = [\"./Data/cm1.arff\",\"./Data/kc1.arff\"]\n",
    "#files = [\"./Data/cm1.arff\"]\n",
    "proportions = [0.02, 0.05, 0.1]\n",
    "\n",
    "for index,file in enumerate(files):\n",
    "    #X, y = onlineArff(url)\n",
    "    X,y = readArff(file)\n",
    "    columns = X.columns\n",
    "    display (X.shape)\n",
    "    \n",
    "        \n",
    "        \n",
    "    scaler = preprocessing.StandardScaler()\n",
    "\n",
    "    X = scaler.fit_transform(X)\n",
    "    X = pd.DataFrame(data=X, columns= columns)\n",
    "    \n",
    "\n",
    "    X_train, X_test, y_train, y_test = train_test_split(X, \n",
    "                                                    y, \n",
    "                                                    test_size = 0.2,\n",
    "                                                    random_state = 100)\n",
    "    \n",
    "    \n",
    "    X_train.reset_index(drop=True, inplace=True) #São resetados, pois no LVQ é feito alterações a partir do index\n",
    "    y_train.reset_index(drop=True, inplace=True)\n",
    "\n",
    "    estimator = KNeighborsClassifier()\n",
    "    parameters = {'n_neighbors':list(range(1,3)), 'metric':[\"euclidean\"]}\n",
    "    scorer = 'accuracy'\n",
    "    \n",
    "     \n",
    "    acc_aux, test_time_aux = getAccuracy(X_train, y_train, X_test, y_test, estimator, parameters, scorer, \"Train Data\")\n",
    "    \n",
    "    \n",
    "    all_test_time = []\n",
    "    all_acc = []\n",
    "    all_time_prot = []\n",
    "    \n",
    "    for proportion in proportions:\n",
    "        test_time = []\n",
    "        acc = []\n",
    "        time_prot = []\n",
    "        \n",
    "        acc.append(acc_aux)\n",
    "        test_time.append(test_time_aux)\n",
    "        \n",
    "        print(\"Número de protótipos: \", round(X.shape[0] * proportion))\n",
    "        \n",
    "        LVQ1 = LVQ(X_train,y_train,lvq_type= \"1\", proportion= proportion)\n",
    "        \n",
    "        LVQ2 = LVQ(X_train,y_train, lvq_type= \"2_1\",proportion= proportion)\n",
    "        \n",
    "        LVQ3 = LVQ(X_train,y_train, lvq_type= \"3\", proportion= proportion)\n",
    "        \n",
    "        \n",
    "        acc_aux2, test_time_aux2 = getAccuracy(LVQ1.prototypes, LVQ1.prototype_classes, X_test, y_test, estimator, parameters, scorer, \"LVQ1\")\n",
    "        acc.append(acc_aux2)\n",
    "        test_time.append(test_time_aux2)\n",
    "        \n",
    "        acc_aux2, test_time_aux2 = getAccuracy(LVQ2.prototypes, LVQ2.prototype_classes, X_test, y_test, estimator, parameters, scorer, \"LVQ2\")\n",
    "        acc.append(acc_aux2)\n",
    "        test_time.append(test_time_aux2)\n",
    "\n",
    "        acc_aux2, test_time_aux2 = getAccuracy(LVQ3.prototypes, LVQ3.prototype_classes, X_test, y_test, estimator, parameters, scorer, \"LVQ3\")\n",
    "        acc.append(acc_aux2)\n",
    "        test_time.append(test_time_aux2)\n",
    "\n",
    "        \n",
    "    \n",
    "        time_prot.append(0) #O elemento do knn é 0\n",
    "        time_prot.append(LVQ1.time_prot)\n",
    "        time_prot.append(LVQ2.time_prot)\n",
    "        time_prot.append(LVQ3.time_prot)\n",
    "        \n",
    "        all_test_time.append(test_time)\n",
    "        all_acc.append(acc)\n",
    "        all_time_prot.append(time_prot)\n",
    "        \n",
    "    getBarplot(all_acc,str(index+1)+\"Acuracia\", \"Acurácia (%)\", \"green\", proportions)\n",
    "    getBarplot(all_test_time,str(index+1)+\"TempoTeste\", \"Tempo (s)\", \"red\", proportions)\n",
    "    getBarplot(all_time_prot, str(index+1)+\"TempoGeracao\", \"Tempo(s)\", \"blue\", proportions )\n",
    "\n",
    "    \n",
    "   "
   ]
  },
  {
   "cell_type": "code",
   "execution_count": 8,
   "metadata": {},
   "outputs": [],
   "source": [
    "\n",
    "\n",
    "#Add gráficos de barra para o tempo\n",
    "#Gráficos para a acurácia\n",
    "    #    self.lvq1()# Baixar arquivos Arff que vou fazer teste, pois o offline deu erro uma vez\n",
    "\n",
    "## Fazer a seleção de protótipos randomicamente com o pandas\n",
    "\n"
   ]
  },
  {
   "cell_type": "code",
   "execution_count": null,
   "metadata": {},
   "outputs": [],
   "source": []
  }
 ],
 "metadata": {
  "kernelspec": {
   "display_name": "Python 3",
   "language": "python",
   "name": "python3"
  },
  "language_info": {
   "codemirror_mode": {
    "name": "ipython",
    "version": 3
   },
   "file_extension": ".py",
   "mimetype": "text/x-python",
   "name": "python",
   "nbconvert_exporter": "python",
   "pygments_lexer": "ipython3",
   "version": "3.6.8"
  }
 },
 "nbformat": 4,
 "nbformat_minor": 2
}
